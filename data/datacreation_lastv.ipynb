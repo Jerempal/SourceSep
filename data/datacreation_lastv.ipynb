{
 "cells": [
  {
   "cell_type": "code",
   "execution_count": null,
   "id": "a65e318a-ae64-4660-a2b1-8bbfe246aaf7",
   "metadata": {},
   "outputs": [],
   "source": [
    "#%%\n",
    "\n",
    "import numpy\n",
    "import os\n",
    "import pandas as pd\n",
    "import torch\n",
    "import pyloudnorm as pyln\n",
    "import random\n",
    "import soundfile as sf\n",
    "from tqdm import tqdm\n",
    "import librosa\n",
    "from config import DATASET_PERCUSSION_PATH, DATASET_NOISE_PATH, DATASET_MIX_AUDIO_PATH\n",
    "from utils import dynamic_loudnorm\n",
    "from multiprocessing import Pool, cpu_count"
   ]
  },
  {
   "cell_type": "code",
   "execution_count": null,
   "id": "524dbf0d-c8e8-416d-a104-c51b5473ed87",
   "metadata": {},
   "outputs": [
    {
     "name": "stdout",
     "output_type": "stream",
     "text": [
      "The number of unique noise classes: 72\n",
      "The count of each k value: k\n",
      "0.6    1546\n",
      "0.5    1491\n",
      "0.9    1459\n",
      "0.7    1438\n",
      "0.8    1424\n",
      "Name: count, dtype: int64\n",
      "The number of unique percussion files: 387\n",
      "The number of unique mix files: 7358\n",
      "The number of unique noise files: 6521\n",
      "The count of each noise file: noise_files\n",
      "50416-4-0-0.wav,38231-3-3-0.wav       2\n",
      "165454-0-0-8.wav                      2\n",
      "187110-2-0-12.wav,59800-3-1-0.wav     2\n",
      "188813-7-5-0.wav                      2\n",
      "168846-5-1-14.wav                     2\n",
      "                                     ..\n",
      "135776-2-0-65.wav                     1\n",
      "156869-8-0-7.wav                      1\n",
      "171305-7-1-0.wav,182800-2-3-1.wav     1\n",
      "39856-5-0-17.wav,113202-5-0-10.wav    1\n",
      "169098-7-4-2.wav,102857-5-0-17.wav    1\n",
      "Name: count, Length: 6521, dtype: int64\n",
      "count    6521.000000\n",
      "mean        1.128355\n",
      "std         0.334510\n",
      "min         1.000000\n",
      "25%         1.000000\n",
      "50%         1.000000\n",
      "75%         1.000000\n",
      "max         2.000000\n",
      "dtype: float64\n",
      "The number of unique noise files: 7358\n"
     ]
    }
   ],
   "source": [
    "#%%\n",
    "\n",
    "output_dir = DATASET_MIX_AUDIO_PATH\n",
    "\n",
    "# Load metadata\n",
    "metadata_path = os.path.join(output_dir, \"metadata.csv\")\n",
    "metadata = pd.read_csv(metadata_path)\n",
    "\n",
    "print(f\"The number of unique noise classes: {metadata['noise_classes'].nunique()}\")\n",
    "print(f\"The count of each k value: {metadata['k'].value_counts()}\")\n",
    "print(f\"The number of unique percussion files: {metadata['percussion_file'].nunique()}\")\n",
    "print(f\"The number of unique mix files: {metadata['mix_file'].nunique()}\")\n",
    "print(f\"The number of unique noise files: {metadata['noise_files'].nunique()}\")\n",
    "print(f\"The count of each noise file: {metadata['noise_files'].value_counts()}\")\n",
    "print(metadata.groupby(\"noise_files\").size().describe())\n",
    "\n",
    "# see the different noise files saved\n",
    "noise_files = metadata['noise_files'].str.split(',')\n",
    "noise_files = [item for sublist in noise_files for item in sublist]\n",
    "print(f\"The number of unique noise files: {len(set(noise_files))}\")"
   ]
  }
 ],
 "metadata": {
  "language_info": {
   "codemirror_mode": {
    "name": "ipython",
    "version": 3
   },
   "file_extension": ".py",
   "mimetype": "text/x-python",
   "name": "python",
   "nbconvert_exporter": "python",
   "pygments_lexer": "ipython3",
   "version": 3
  }
 },
 "nbformat": 4,
 "nbformat_minor": 2
}
